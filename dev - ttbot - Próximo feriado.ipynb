{
 "cells": [
  {
   "cell_type": "markdown",
   "id": "7cb38bdd",
   "metadata": {},
   "source": [
    "# func"
   ]
  },
  {
   "cell_type": "code",
   "execution_count": 3,
   "id": "84ed07b2",
   "metadata": {
    "ExecuteTime": {
     "end_time": "2023-11-24T11:18:10.277134Z",
     "start_time": "2023-11-24T11:18:10.068435Z"
    }
   },
   "outputs": [],
   "source": [
    "#!/usr/bin/env python\n",
    "# coding: utf-8\n",
    "\n",
    "# # Funções\n",
    "\n",
    "# ## Importing libs\n",
    "\n",
    "import os\n",
    "import requests\n",
    "import tweepy\n",
    "from datetime import datetime as dt\n",
    "\n",
    "# ## Auth\n",
    "\n",
    "# tt = tweepy.Client(\n",
    "#     #Consumer Keys\n",
    "#     consumer_key= os.environ['CONSUMER_KEY'],\n",
    "#     consumer_secret= os.environ['CONSUMER_SECRET'],\n",
    "#     # Access Token and Secret\n",
    "#     access_token= os.environ['ACCESS_TOKEN'],\n",
    "#     access_token_secret= os.environ['ACCESS_TOKEN_SECRET'])\n",
    "\n",
    "# ## Defining Functions\n",
    "\n",
    "now = dt.now()\n",
    "\n",
    "#- get_date()\n",
    "def get_date(year=None, month=None, day=None, now=now, as_str=True):\n",
    "    \"\"\"Returns string with the actual month and year, or especified date.\n",
    "  Used in request url.\n",
    "\n",
    "  in: get_month()\n",
    "  out: <ACTUAL_YEAR>/<ACTUAL_MONTH>/\n",
    "\n",
    "  in: get_month(year = 2010, month = 03)\n",
    "  out: 2010/marco\"\"\"\n",
    "\n",
    "    if year == None:\n",
    "        year_n = now.year\n",
    "    else:\n",
    "        year_n = year\n",
    "\n",
    "    if month == None:\n",
    "        month_n = now.month\n",
    "    else:\n",
    "        month_n = month\n",
    "\n",
    "    day_n = now.day\n",
    "\n",
    "    dt_month = dict(\n",
    "        zip(range(1, 13), [\n",
    "            'janeiro', 'fevereiro', 'marco', 'abril', 'maio', 'junho', 'julho',\n",
    "            'agosto', 'setembro', 'outubro', 'novembro', 'dezembro'\n",
    "        ]))\n",
    "\n",
    "    if as_str == True:\n",
    "        str_date = '{}/{}'.format(year_n, dt_month[month_n])\n",
    "    else:\n",
    "        str_date = [year_n, month_n, day_n]\n",
    "\n",
    "    return str_date\n",
    "\n",
    "\n",
    "#- create_tree()\n",
    "def create_tree(year=None, month=None, url = 'https://www.datascomemorativas.me/'):\n",
    "\n",
    "    # sets month and year for request ()\n",
    "    str_date = get_date(year, month)\n",
    "\n",
    "    # Scrap's Resquest\n",
    "    url_r = url+'{}'.format(str_date)\n",
    "    with requests.get(url_r) as r:\n",
    "        #print('DEBUG - status code: ',r.status_code)\n",
    "        r.encoding = 'UTF-8'\n",
    "        text = r.text  # string\n",
    "        #content = r.content # bytes\n",
    "\n",
    "    # generates html tree from html string\n",
    "    from lxml import html\n",
    "    tree = html.fromstring(text)\n",
    "    return tree\n",
    "\n",
    "\n",
    "#- create_grid()\n",
    "def create_grid(year=None, month=None, full_grid=False):\n",
    "\n",
    "    # today's date\n",
    "    today = get_date(as_str=False)\n",
    "\n",
    "    if year == None:\n",
    "        year = today[0]\n",
    "\n",
    "    month_n = today[1] if month == None else month\n",
    "\n",
    "    html_tree = create_tree(year, month)\n",
    "\n",
    "    x = list(range(1, 7))  # week of the month (1 = first week)\n",
    "    y = list(range(1, 8))  # day of the week (1 = sunday, 7 = saturday)\n",
    "    z = list(range(\n",
    "        1, 10))  # 9 rows per day (row1: icecream day, row2: youscream day)\n",
    "\n",
    "    # Creates Grid\n",
    "    from itertools import product\n",
    "    l = list(product(x, y, z))  # Vectorial product of lists\n",
    "\n",
    "    # Sets up grid loop\n",
    "    content = None\n",
    "    date_list = []\n",
    "\n",
    "    # defines year\n",
    "    year_xpath = '/html/body/section/div/header/div[1]/span[2]'\n",
    "    year = int(html_tree.xpath(year_xpath)[0].text_content())\n",
    "\n",
    "    # defines month\n",
    "    month_xpath = '/html/body/section/div/header/div[1]/span[1]'\n",
    "    month = html_tree.xpath(month_xpath)[0].text_content()\n",
    "\n",
    "    # Searchs html-tree using the grid\n",
    "    for x in range(len(l)):\n",
    "        a, b, c = l[x][0], l[x][1], l[x][2]\n",
    "        xpath_ref = [a, b, c]\n",
    "        # If a month starts on monday (week day 2), then the Sunday (day =1) returns Day = None\n",
    "        try:\n",
    "            #Defines day\n",
    "            day_xpath = '/html/body/section/div/div/table/tbody/tr[{0}]/td[{1}]/div[1]/span[1]'.format(\n",
    "                a, b)\n",
    "            day = html_tree.xpath(day_xpath)[0].text_content()\n",
    "        except:\n",
    "            day = 0\n",
    "\n",
    "\n",
    "\n",
    "        try:\n",
    "            content_xpath = '/html/body/section/div/div/table/tbody/tr[{0}]/td[{1}]/ul/li[{2}]/span'.format(\n",
    "                a, b, c)\n",
    "            content = html_tree.xpath(content_xpath)[0].text_content()\n",
    "        except:\n",
    "            content = None\n",
    "\n",
    "        # Verifica se é um feriado!\n",
    "        if content == None:\n",
    "            try:\n",
    "                content_xpath = '/html/body/section/div/div/table/tbody/tr[{0}]/td[{1}]/ul/li[{2}]/a'.format(\n",
    "                a, b, c)\n",
    "                content = html_tree.xpath(content_xpath)[0].text_content()\n",
    "                feriado_str = 'feriado!⭐ '\n",
    "                content = feriado_str+content\n",
    "            except:\n",
    "                content = None           \n",
    "\n",
    "        date_list.append([year, month_n, int(day), content, str(xpath_ref)])\n",
    "\n",
    "        if full_grid == False:\n",
    "            date_list = [x for x in date_list if x[3] != None\n",
    "                         ]  # Filters grid: content != None. See *** bellow\n",
    "\n",
    "    return date_list\n",
    "\n",
    "\n",
    "#- todays_tt()\n",
    "def todays_tt():\n",
    "    today = get_date(as_str=False)\n",
    "    date_list = create_grid()\n",
    "    tt_list = [x for x in date_list if x[:3] == today]\n",
    "\n",
    "    return tt_list\n",
    "\n",
    "\n",
    "#- format_post()\n",
    "def format_post():\n",
    "    ttt = todays_tt()\n",
    "    ttt_aux = list(set([x[3] for x in ttt]))\n",
    "    txt = str([x for x in ttt_aux]).strip('[]').replace(\"'\", \"\")\n",
    "\n",
    "    if len(ttt_aux) > 1:\n",
    "        txt = txt.replace(',{}'.format(txt.split(',')[-1]),\n",
    "                          ' e{}'.format(txt.split(',')[-1]))\n",
    "    # - Substitui texto específico\n",
    "    txt = txt.replace('Dia do Deficiente Físico','Dia da Pessoa com Deficência Física')\n",
    "\n",
    "    if txt == '':\n",
    "        return 'Hoje não temos datas comemorativas! 😥'\n",
    "    else:\n",
    "        return 'Hoje é {}'.format(txt)\n",
    "\n",
    "\n",
    "#- post_date()\n",
    "def post_date():\n",
    "    text = format_post()\n",
    "    r = tt.create_tweet(text=text)\n",
    "    print(r)\n",
    "    return\n"
   ]
  },
  {
   "cell_type": "markdown",
   "id": "79e5c94b",
   "metadata": {},
   "source": [
    "# dev"
   ]
  },
  {
   "cell_type": "markdown",
   "id": "7dcceeb5",
   "metadata": {},
   "source": [
    "- Adicionei os feriados nacionais! Atualizar código de get_gridf no github!!!"
   ]
  },
  {
   "cell_type": "code",
   "execution_count": 172,
   "id": "d1b638e3",
   "metadata": {
    "ExecuteTime": {
     "end_time": "2023-11-24T13:48:11.817018Z",
     "start_time": "2023-11-24T13:48:10.939404Z"
    }
   },
   "outputs": [
    {
     "name": "stdout",
     "output_type": "stream",
     "text": [
      "\n",
      "Faltam 31 dias para o próximo feriado: O Natal, em 25 de dezembro de 2023!\n",
      "E se prepara pro feriadão que o Natal cai numa Segunda-feira!🌞😎\n",
      "\n",
      "Hoje é Dia do Quadro Auxiliar de Oficiais.\n"
     ]
    }
   ],
   "source": [
    "def format_post():\n",
    "    ttt = todays_tt()\n",
    "    ttt_aux = list(set([x[3] for x in ttt]))\n",
    "    txt = str([x for x in ttt_aux]).strip('[]').replace(\"'\", \"\")\n",
    "\n",
    "    if len(ttt_aux) > 1:\n",
    "        txt = txt.replace(',{}'.format(txt.split(',')[-1]),\n",
    "                          ' e{}'.format(txt.split(',')[-1]))\n",
    "        \n",
    "    # Carrega texto sobre o próximo feriado!   \n",
    "    str_feriados = get_content_feriado()\n",
    "\n",
    "    \n",
    "    # - Substitui texto específico\n",
    "    txt = txt.replace('Dia do Deficiente Físico','Dia da Pessoa com Deficência Física')\n",
    "\n",
    "    if txt == '':\n",
    "        return str_feriados + '\\nHoje não temos datas comemorativas! 😥 '\n",
    "    else:\n",
    "        return str_feriados + '\\n\\nHoje é {}.'.format(txt)\n",
    "\n",
    "# teste\n",
    "print(format_post())"
   ]
  },
  {
   "cell_type": "markdown",
   "id": "fe57a2bf",
   "metadata": {},
   "source": [
    "# Dias até o próximo feriado"
   ]
  },
  {
   "cell_type": "code",
   "execution_count": 148,
   "id": "d63ce034",
   "metadata": {
    "ExecuteTime": {
     "end_time": "2023-11-24T13:40:05.703018Z",
     "start_time": "2023-11-24T13:40:05.696723Z"
    }
   },
   "outputs": [],
   "source": [
    "# - Data de teste\n",
    "#now = dt(year=2023, month = 12, day = 26) #Depois do último feriado de 2023!"
   ]
  },
  {
   "cell_type": "markdown",
   "id": "04755e1a",
   "metadata": {},
   "source": [
    "# Funções"
   ]
  },
  {
   "cell_type": "code",
   "execution_count": 157,
   "id": "2541b02c",
   "metadata": {
    "ExecuteTime": {
     "end_time": "2023-11-24T13:42:04.483485Z",
     "start_time": "2023-11-24T13:42:04.462275Z"
    }
   },
   "outputs": [],
   "source": [
    "def create_tree_feriado(year=None, month=None, url = 'http://www.supercalendario.com.br/feriados/'):\n",
    "\n",
    "    # sets month and year for request ()\n",
    "    str_date = get_date(year, month)[:4]\n",
    "\n",
    "    # Scrap's Resquest\n",
    "    url_r = url+'{}'.format(str_date)\n",
    "    #print(url_r)\n",
    "    with requests.get(url_r) as r:\n",
    "        #print('DEBUG - status code: ',r.status_code)\n",
    "        r.encoding = 'UTF-8'\n",
    "        text = r.text  # string\n",
    "        #content = r.content # bytes\n",
    "\n",
    "    # generates html tree from html string\n",
    "    from lxml import html\n",
    "    tree = html.fromstring(text)\n",
    "    return tree"
   ]
  },
  {
   "cell_type": "code",
   "execution_count": 165,
   "id": "6d40af82",
   "metadata": {
    "ExecuteTime": {
     "end_time": "2023-11-24T13:45:45.586688Z",
     "start_time": "2023-11-24T13:45:45.134429Z"
    }
   },
   "outputs": [
    {
     "data": {
      "text/plain": [
       "[datetime.date(2023, 12, 25), 'Segunda-feira', 'Natal', 31]"
      ]
     },
     "execution_count": 165,
     "metadata": {},
     "output_type": "execute_result"
    }
   ],
   "source": [
    "def get_list_feriado_futuro(year = None, now = now):\n",
    "    \n",
    "    today = now.date()\n",
    "    \n",
    "    if year == None:\n",
    "        year = now.year\n",
    "    #print('feriados de ', year)\n",
    "    \n",
    "    url_feriado = 'http://www.supercalendario.com.br/feriados/'\n",
    "    tree = create_tree_feriado(year = year, url = url_feriado)\n",
    "\n",
    "    list_contents = [y.split(' - ') for y in [x.text_content() for x in tree.find_class('holidayDate')[1:]]]\n",
    "    list_feriado  = [f[0] for f in list_contents]\n",
    "    list_wd       = [f[1] for f in list_contents]\n",
    "    list_content  = [f[2] for f in list_contents]\n",
    "    \n",
    "    \n",
    "    from pandas import to_datetime\n",
    "    from dateutil.relativedelta import relativedelta\n",
    "\n",
    "    rd = (relativedelta(years = year) - relativedelta(years = 1900))  \n",
    "    list_feriado = [(to_datetime(f, format='%d/%m') + rd).date() for f in list_feriado]\n",
    "    list_distancia_feriado = [(d - today).days for d in list_feriado]\n",
    "    list_feriados_futuro = [x for x in list_distancia_feriado if x>0]\n",
    "    \n",
    "    if  len(list_feriados_futuro) == 0:\n",
    "        print('DEBUG: feriados de year+1')\n",
    "        return get_list_feriado_futuro(year = year+1)\n",
    "           \n",
    "    next_holiday_in_days = min(list_feriados_futuro)\n",
    "    next_holiday_idx = list_distancia_feriado.index(next_holiday_in_days)\n",
    "    \n",
    "    list_content = [list_feriado[next_holiday_idx], list_wd[next_holiday_idx], list_content[next_holiday_idx], next_holiday_in_days]\n",
    "    \n",
    "    return list_content\n",
    "\n",
    "#teste\n",
    "get_list_feriado_futuro()"
   ]
  },
  {
   "cell_type": "code",
   "execution_count": 167,
   "id": "2ab72bfb",
   "metadata": {
    "ExecuteTime": {
     "end_time": "2023-11-24T13:46:05.707532Z",
     "start_time": "2023-11-24T13:46:05.687577Z"
    }
   },
   "outputs": [],
   "source": [
    "def get_content_feriado(year = None, now = now):\n",
    "\n",
    "    list_content = get_list_feriado_futuro(year=year, now = now)\n",
    "    feriado  = list_content[0]\n",
    "    wd       = list_content[1]\n",
    "    content  = list_content[2]\n",
    "    \n",
    "    next_holiday_in_days = list_content[3]\n",
    "    \n",
    "#     print(feriado, type(feriado))\n",
    "#     print(wd)\n",
    "#     print(content)\n",
    "    \n",
    "    dt_month = dict(\n",
    "            zip(range(1, 13), [\n",
    "                'janeiro', 'fevereiro', 'marco', 'abril', 'maio', 'junho', 'julho',\n",
    "                'agosto', 'setembro', 'outubro', 'novembro', 'dezembro'\n",
    "            ]))\n",
    "\n",
    "    str_dt_feriado = feriado.strftime(f'%d de {dt_month[feriado.month]} de %Y')\n",
    "    str_content_feriado = f\"\\nFaltam {next_holiday_in_days} dias para o próximo feriado: O {content}, em {str_dt_feriado}!\"\n",
    "    extra_feriado = \"\\nE se prepara pro feriadão que o {} cai numa {}!🌞😎\".format(content, wd)\n",
    "\n",
    "    if wd in [\"Segunda-feira\",\"Sexta-feira\"]:\n",
    "        str_content_feriado = str_content_feriado+extra_feriado\n",
    "    \n",
    "    #print(str_content_feriado)\n",
    "    return str_content_feriado"
   ]
  }
 ],
 "metadata": {
  "kernelspec": {
   "display_name": "Python 3 (ipykernel)",
   "language": "python",
   "name": "python3"
  },
  "language_info": {
   "codemirror_mode": {
    "name": "ipython",
    "version": 3
   },
   "file_extension": ".py",
   "mimetype": "text/x-python",
   "name": "python",
   "nbconvert_exporter": "python",
   "pygments_lexer": "ipython3",
   "version": "3.9.0"
  },
  "toc": {
   "base_numbering": 1,
   "nav_menu": {
    "height": "109px",
    "width": "160px"
   },
   "number_sections": true,
   "sideBar": true,
   "skip_h1_title": false,
   "title_cell": "Table of Contents",
   "title_sidebar": "Contents",
   "toc_cell": false,
   "toc_position": {
    "height": "calc(100% - 180px)",
    "left": "10px",
    "top": "150px",
    "width": "409.6px"
   },
   "toc_section_display": true,
   "toc_window_display": true
  },
  "varInspector": {
   "cols": {
    "lenName": 16,
    "lenType": 16,
    "lenVar": 40
   },
   "kernels_config": {
    "python": {
     "delete_cmd_postfix": "",
     "delete_cmd_prefix": "del ",
     "library": "var_list.py",
     "varRefreshCmd": "print(var_dic_list())"
    },
    "r": {
     "delete_cmd_postfix": ") ",
     "delete_cmd_prefix": "rm(",
     "library": "var_list.r",
     "varRefreshCmd": "cat(var_dic_list()) "
    }
   },
   "types_to_exclude": [
    "module",
    "function",
    "builtin_function_or_method",
    "instance",
    "_Feature"
   ],
   "window_display": false
  }
 },
 "nbformat": 4,
 "nbformat_minor": 5
}
